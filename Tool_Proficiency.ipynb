{
 "cells": [
  {
   "cell_type": "markdown",
   "metadata": {},
   "source": [
    "## 1. Import/Install Dependencies"
   ]
  },
  {
   "cell_type": "code",
   "execution_count": 1,
   "metadata": {},
   "outputs": [
    {
     "data": {
      "text/plain": [
       "'2.4.1+cu124'"
      ]
     },
     "execution_count": 1,
     "metadata": {},
     "output_type": "execute_result"
    }
   ],
   "source": [
    "# Import dependencies\n",
    "import numpy as np\n",
    "from gymnasium import Env\n",
    "from gymnasium.utils import env_checker\n",
    "from gymnasium.spaces import Box, Discrete\n",
    "from mss import mss\n",
    "import cv2\n",
    "import pydirectinput\n",
    "import torch\n",
    "from torch import nn\n",
    "\n",
    "# Check version of pytorch\n",
    "torch.__version__"
   ]
  },
  {
   "cell_type": "markdown",
   "metadata": {},
   "source": [
    "## 2. Construct Environment"
   ]
  },
  {
   "cell_type": "code",
   "execution_count": 2,
   "metadata": {},
   "outputs": [],
   "source": [
    "class PacMan(Env):\n",
    "    def __init__(self):\n",
    "        super().__init__()\n",
    "        self.observation_space = Box(low=0, high=255, shape=(1,50,80), dtype=np.uint8)\n",
    "        self.action_space = Discrete(5)\n",
    "        self.game_location = {'top':50, 'left':-2280, 'width':2000, 'height':1300}\n",
    "        \n",
    "        \n",
    "    # Action method that is called to do something in the game\n",
    "    def step(self, action):\n",
    "        action_map = {\n",
    "            0: 'left',   # Move Left\n",
    "            1: 'right',  # Move Right\n",
    "            2: 'up',     # Move Up\n",
    "            3: 'down',   # Move Down\n",
    "            4: 'no_op'   # No operation (do nothing)\n",
    "        }\n",
    "        if action != 4:\n",
    "            pydirectinput.press(action_map[action])\n",
    "        \n",
    "        # Get the next observation\n",
    "        new_observation = self.get_observation()\n",
    "        # Determine if the game is finished   \n",
    "        done = self.get_done()\n",
    "        \n",
    "        if not done:\n",
    "            reward += 10\n",
    "        else:\n",
    "            reward -= 30\n",
    "            \n",
    "        # Info dictionary\n",
    "        info = {} # needed for stablebaselines what it expects\n",
    "        \n",
    "        return new_observation, reward, done, False, info\n",
    "    \n",
    "    def get_observation(self):\n",
    "        # Get screen capture of game\n",
    "        raw_screen_cap = np.array(self.cap.grab(self.game_location))[:,:,:3]\n",
    "        # Convert to Grayscale\n",
    "        gray_cap = cv2.cvtColor(raw_screen_cap, cv2.COLOR_BGR2GRAY)\n",
    "        # Resize capture\n",
    "        resized = cv2.resize(gray_cap, (80,50))\n",
    "        # Add channels first\n",
    "        channel = np.reshape(resized, (1,50,80))\n",
    "        return channel\n",
    "    \n",
    "    def render(self):\n",
    "        cv2.imshow('Game', np.array(self.cap.grab(self.game_location))[:,:,:3])\n",
    "        if cv2.waitKey(1) & 0xFF == ord('q'):\n",
    "            self.close()\n",
    "    \n",
    "    # Method to Restart the game\n",
    "    def reset(self, seed=None, options=None):\n",
    "        super().reset(seed=seed)\n",
    "        pydirectinput.click(x=-890, y=374) # select game window\n",
    "        pydirectinput.press('f1') # Start state 1 save\n",
    "        return self.get_observation(), {}\n",
    "    \n",
    "    def close(self):\n",
    "        cv2.destroyAllWindows()\n",
    "        \n",
    "    def get_done(self):\n",
    "        # Capture the area where the lives are displayed\n",
    "        lives_cap = np.array(self.cap.grab(self.lives_location))[:,:,:3]\n",
    "        # Convert to grayscale\n",
    "        lives_gray = cv2.cvtColor(lives_cap, cv2.COLOR_BGR2GRAY)\n",
    "        # Load pacman life icon template for comparison\n",
    "        pacman_life_template = cv2.imread('pacman_life_icon.png', 0)\n",
    "        # Perform template matching using computer vision\n",
    "        result = cv2.matchTemplate(lives_gray, pacman_life_template, cv2.TM_CCORR_NORMED)\n",
    "        threshold = 0.8\n",
    "        locations = np.where(result >= threshold)\n",
    "        lives_value = len(list(zip(*locations[::-1])))\n",
    "        \n",
    "        # Determine number of lives\n",
    "        if lives_value == 684:\n",
    "            num_lives = 2\n",
    "        elif lives_value == 344:\n",
    "            num_lives = 1\n",
    "        else:\n",
    "            num_lives = 0\n",
    "            \n",
    "        return num_lives == 0"
   ]
  },
  {
   "cell_type": "code",
   "execution_count": null,
   "metadata": {},
   "outputs": [],
   "source": []
  }
 ],
 "metadata": {
  "kernelspec": {
   "display_name": "neuralnet",
   "language": "python",
   "name": "python3"
  },
  "language_info": {
   "codemirror_mode": {
    "name": "ipython",
    "version": 3
   },
   "file_extension": ".py",
   "mimetype": "text/x-python",
   "name": "python",
   "nbconvert_exporter": "python",
   "pygments_lexer": "ipython3",
   "version": "3.8.19"
  }
 },
 "nbformat": 4,
 "nbformat_minor": 2
}
